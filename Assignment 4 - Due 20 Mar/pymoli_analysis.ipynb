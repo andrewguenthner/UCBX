{
 "cells": [
  {
   "cell_type": "markdown",
   "metadata": {},
   "source": [
    "## Analysis of Player Purchasing in \"Heroes of Pymoli\"\n",
    "by:  Andrew Guenthner\n",
    "Date:  20 Mar 2019\n",
    "\n",
    "Key findings:\n",
    "\n",
    "* Purchasing behavior follows player demongraphics, purchasers are largely male with a strong plurality of 20-24 year-olds\n",
    "\n",
    "* Analysis of top purchasers and most popular items shows modest inequality -- the top 1% of purchasers spend at 3-4 x average\n",
    "\n",
    "* The best revenue producers tended to be the most popular items with above-average prices, rather than discount items\n",
    "\n",
    "Notes:  To run the analyses, the input file \"purchase_data.csv\" needs to be in a folder\n",
    "called \"Resources\" in the same directory as this notebook.  \n",
    "\n",
    "An accompanying \"README\" file should also be available in the same directory as this\n",
    "notebook.  "
   ]
  },
  {
   "cell_type": "code",
   "execution_count": 1,
   "metadata": {},
   "outputs": [],
   "source": [
    "# Import dependencies\n",
    "import pandas as pd\n",
    "\n",
    "# Set up file input\n",
    "purchase_data_source = 'Resources/purchase_data.csv'\n",
    "purchase_df = pd.read_csv(purchase_data_source)"
   ]
  },
  {
   "cell_type": "code",
   "execution_count": 2,
   "metadata": {
    "scrolled": true
   },
   "outputs": [
    {
     "data": {
      "text/html": [
       "<div>\n",
       "<style scoped>\n",
       "    .dataframe tbody tr th:only-of-type {\n",
       "        vertical-align: middle;\n",
       "    }\n",
       "\n",
       "    .dataframe tbody tr th {\n",
       "        vertical-align: top;\n",
       "    }\n",
       "\n",
       "    .dataframe thead th {\n",
       "        text-align: right;\n",
       "    }\n",
       "</style>\n",
       "<table border=\"1\" class=\"dataframe\">\n",
       "  <thead>\n",
       "    <tr style=\"text-align: right;\">\n",
       "      <th></th>\n",
       "      <th>Purchase ID</th>\n",
       "      <th>SN</th>\n",
       "      <th>Age</th>\n",
       "      <th>Gender</th>\n",
       "      <th>Item ID</th>\n",
       "      <th>Item Name</th>\n",
       "      <th>Price</th>\n",
       "    </tr>\n",
       "  </thead>\n",
       "  <tbody>\n",
       "    <tr>\n",
       "      <th>0</th>\n",
       "      <td>0</td>\n",
       "      <td>Lisim78</td>\n",
       "      <td>20</td>\n",
       "      <td>Male</td>\n",
       "      <td>108</td>\n",
       "      <td>Extraction, Quickblade Of Trembling Hands</td>\n",
       "      <td>3.53</td>\n",
       "    </tr>\n",
       "    <tr>\n",
       "      <th>1</th>\n",
       "      <td>1</td>\n",
       "      <td>Lisovynya38</td>\n",
       "      <td>40</td>\n",
       "      <td>Male</td>\n",
       "      <td>143</td>\n",
       "      <td>Frenzied Scimitar</td>\n",
       "      <td>1.56</td>\n",
       "    </tr>\n",
       "    <tr>\n",
       "      <th>2</th>\n",
       "      <td>2</td>\n",
       "      <td>Ithergue48</td>\n",
       "      <td>24</td>\n",
       "      <td>Male</td>\n",
       "      <td>92</td>\n",
       "      <td>Final Critic</td>\n",
       "      <td>4.88</td>\n",
       "    </tr>\n",
       "    <tr>\n",
       "      <th>3</th>\n",
       "      <td>3</td>\n",
       "      <td>Chamassasya86</td>\n",
       "      <td>24</td>\n",
       "      <td>Male</td>\n",
       "      <td>100</td>\n",
       "      <td>Blindscythe</td>\n",
       "      <td>3.27</td>\n",
       "    </tr>\n",
       "    <tr>\n",
       "      <th>4</th>\n",
       "      <td>4</td>\n",
       "      <td>Iskosia90</td>\n",
       "      <td>23</td>\n",
       "      <td>Male</td>\n",
       "      <td>131</td>\n",
       "      <td>Fury</td>\n",
       "      <td>1.44</td>\n",
       "    </tr>\n",
       "  </tbody>\n",
       "</table>\n",
       "</div>"
      ],
      "text/plain": [
       "   Purchase ID             SN  Age Gender  Item ID  \\\n",
       "0            0        Lisim78   20   Male      108   \n",
       "1            1    Lisovynya38   40   Male      143   \n",
       "2            2     Ithergue48   24   Male       92   \n",
       "3            3  Chamassasya86   24   Male      100   \n",
       "4            4      Iskosia90   23   Male      131   \n",
       "\n",
       "                                   Item Name  Price  \n",
       "0  Extraction, Quickblade Of Trembling Hands   3.53  \n",
       "1                          Frenzied Scimitar   1.56  \n",
       "2                               Final Critic   4.88  \n",
       "3                                Blindscythe   3.27  \n",
       "4                                       Fury   1.44  "
      ]
     },
     "execution_count": 2,
     "metadata": {},
     "output_type": "execute_result"
    }
   ],
   "source": [
    "# Check file header to make sure the DataFrame has loaded correctly\n",
    "purchase_df.head()"
   ]
  },
  {
   "cell_type": "markdown",
   "metadata": {},
   "source": [
    "These data sets are expected to be clean and ready-to-go.  To verify, a simple check\n",
    "for any missing values will suffice."
   ]
  },
  {
   "cell_type": "code",
   "execution_count": 3,
   "metadata": {},
   "outputs": [
    {
     "data": {
      "text/plain": [
       "Purchase ID    0\n",
       "SN             0\n",
       "Age            0\n",
       "Gender         0\n",
       "Item ID        0\n",
       "Item Name      0\n",
       "Price          0\n",
       "dtype: int64"
      ]
     },
     "execution_count": 3,
     "metadata": {},
     "output_type": "execute_result"
    }
   ],
   "source": [
    "# Quick check for any missing values ...\n",
    "purchase_df.isnull().sum()"
   ]
  },
  {
   "cell_type": "code",
   "execution_count": 4,
   "metadata": {},
   "outputs": [
    {
     "data": {
      "text/plain": [
       "Purchase ID      int64\n",
       "SN              object\n",
       "Age              int64\n",
       "Gender          object\n",
       "Item ID          int64\n",
       "Item Name       object\n",
       "Price          float64\n",
       "dtype: object"
      ]
     },
     "execution_count": 4,
     "metadata": {},
     "output_type": "execute_result"
    }
   ],
   "source": [
    "# Note the data types of each column for reference.\n",
    "purchase_df.dtypes"
   ]
  },
  {
   "cell_type": "markdown",
   "metadata": {},
   "source": [
    "### Initial exploratory analysis"
   ]
  },
  {
   "cell_type": "markdown",
   "metadata": {},
   "source": [
    "Some basic characteristics of the data: \n",
    "\n",
    "1) Total number of players in the dataset (assuming one screen name per player)\n",
    "\n",
    "2) Total number of items purchased, the average purchase price, total number of purchases, and total revenue "
   ]
  },
  {
   "cell_type": "code",
   "execution_count": 5,
   "metadata": {},
   "outputs": [
    {
     "data": {
      "text/html": [
       "<style  type=\"text/css\" >\n",
       "</style>  \n",
       "<table id=\"T_0dbd58da_494c_11e9_b5b7_7c67a267aeca\" > \n",
       "<thead>    <tr> \n",
       "        <th class=\"col_heading level0 col0\" >Total Players</th> \n",
       "        <th class=\"col_heading level0 col1\" >Total Items</th> \n",
       "        <th class=\"col_heading level0 col2\" >Average Price</th> \n",
       "        <th class=\"col_heading level0 col3\" >Total Purchases</th> \n",
       "        <th class=\"col_heading level0 col4\" >Total Revenue</th> \n",
       "    </tr></thead> \n",
       "<tbody>    <tr> \n",
       "        <td id=\"T_0dbd58da_494c_11e9_b5b7_7c67a267aecarow0_col0\" class=\"data row0 col0\" >576</td> \n",
       "        <td id=\"T_0dbd58da_494c_11e9_b5b7_7c67a267aecarow0_col1\" class=\"data row0 col1\" >179</td> \n",
       "        <td id=\"T_0dbd58da_494c_11e9_b5b7_7c67a267aecarow0_col2\" class=\"data row0 col2\" >$3.05</td> \n",
       "        <td id=\"T_0dbd58da_494c_11e9_b5b7_7c67a267aecarow0_col3\" class=\"data row0 col3\" >780</td> \n",
       "        <td id=\"T_0dbd58da_494c_11e9_b5b7_7c67a267aecarow0_col4\" class=\"data row0 col4\" >$2,379.77</td> \n",
       "    </tr></tbody> \n",
       "</table> "
      ],
      "text/plain": [
       "<pandas.io.formats.style.Styler at 0x1dcecccdac8>"
      ]
     },
     "execution_count": 5,
     "metadata": {},
     "output_type": "execute_result"
    }
   ],
   "source": [
    "# Compute total number of unique screen names, total items, average price, number of transactions, and total revenue\n",
    "total_players = purchase_df.SN.nunique()\n",
    "total_items = purchase_df['Item Name'].nunique()\n",
    "average_price = f'${purchase_df.Price.mean():.2f}'\n",
    "total_purchases = purchase_df['Purchase ID'].count()\n",
    "total_revenue = f'${purchase_df.Price.sum():,.2f}'\n",
    "# Generate a DataFrame to provide this information in a nicely formatted table\n",
    "summary_df = pd.DataFrame({'Total Players':total_players,'Total Items':total_items,'Average Price':average_price,\n",
    "                           'Total Purchases':total_purchases,'Total Revenue':total_revenue},index = [0])\n",
    "summary_df.style.hide_index()"
   ]
  },
  {
   "cell_type": "markdown",
   "metadata": {},
   "source": [
    "This is a reasonable size group for drawing inferences from the total set, but small enough that\n",
    "we may need to be careful about analyzing subsets, such as particular age groups."
   ]
  },
  {
   "cell_type": "markdown",
   "metadata": {},
   "source": [
    "### Gender Analysis"
   ]
  },
  {
   "cell_type": "markdown",
   "metadata": {},
   "source": [
    "The breakdown of the data by gender is as follows:\n",
    "\n",
    "1) Players by gender (based on unique screen name count)"
   ]
  },
  {
   "cell_type": "code",
   "execution_count": 15,
   "metadata": {},
   "outputs": [
    {
     "data": {
      "text/html": [
       "<style  type=\"text/css\" >\n",
       "</style>  \n",
       "<table id=\"T_629eb880_494c_11e9_bf64_7c67a267aeca\" > \n",
       "<thead>    <tr> \n",
       "        <th class=\"col_heading level0 col0\" >Gender</th> \n",
       "        <th class=\"col_heading level0 col1\" >Player Count</th> \n",
       "        <th class=\"col_heading level0 col2\" >% of Players</th> \n",
       "    </tr></thead> \n",
       "<tbody>    <tr> \n",
       "        <td id=\"T_629eb880_494c_11e9_bf64_7c67a267aecarow0_col0\" class=\"data row0 col0\" >Female</td> \n",
       "        <td id=\"T_629eb880_494c_11e9_bf64_7c67a267aecarow0_col1\" class=\"data row0 col1\" >81</td> \n",
       "        <td id=\"T_629eb880_494c_11e9_bf64_7c67a267aecarow0_col2\" class=\"data row0 col2\" >14.06</td> \n",
       "    </tr>    <tr> \n",
       "        <td id=\"T_629eb880_494c_11e9_bf64_7c67a267aecarow1_col0\" class=\"data row1 col0\" >Male</td> \n",
       "        <td id=\"T_629eb880_494c_11e9_bf64_7c67a267aecarow1_col1\" class=\"data row1 col1\" >484</td> \n",
       "        <td id=\"T_629eb880_494c_11e9_bf64_7c67a267aecarow1_col2\" class=\"data row1 col2\" >84.03</td> \n",
       "    </tr>    <tr> \n",
       "        <td id=\"T_629eb880_494c_11e9_bf64_7c67a267aecarow2_col0\" class=\"data row2 col0\" >Other / Non-Disclosed</td> \n",
       "        <td id=\"T_629eb880_494c_11e9_bf64_7c67a267aecarow2_col1\" class=\"data row2 col1\" >11</td> \n",
       "        <td id=\"T_629eb880_494c_11e9_bf64_7c67a267aecarow2_col2\" class=\"data row2 col2\" >1.91</td> \n",
       "    </tr></tbody> \n",
       "</table> "
      ],
      "text/plain": [
       "<pandas.io.formats.style.Styler at 0x1dceda37b00>"
      ]
     },
     "execution_count": 15,
     "metadata": {},
     "output_type": "execute_result"
    }
   ],
   "source": [
    "# Make a general-purpose group-by item\n",
    "purch_by_gender = purchase_df.groupby('Gender')\n",
    "# Count unique screen names by group\n",
    "gender_count = pd.DataFrame(purch_by_gender['SN'].nunique().reset_index())\n",
    "# Generate % data and format the dataframe \n",
    "gender_count['% of Players'] = 100 * gender_count['SN'] / gender_count['SN'].sum()\n",
    "gender_count = gender_count.rename(columns={'SN':'Player Count'})\n",
    "gender_count['% of Players'] = gender_count['% of Players'].map('{:.2f}'.format)\n",
    "gender_count.style.hide_index()"
   ]
  },
  {
   "cell_type": "markdown",
   "metadata": {},
   "source": [
    "The players identify as male by a large margin."
   ]
  },
  {
   "cell_type": "markdown",
   "metadata": {},
   "source": [
    "2) Purchase characteristics by gender, including number of purchases, average purchase amount, total purchases by each gender, and average spent on purchases per person by gender"
   ]
  },
  {
   "cell_type": "code",
   "execution_count": 7,
   "metadata": {},
   "outputs": [
    {
     "data": {
      "text/html": [
       "<style  type=\"text/css\" >\n",
       "</style>  \n",
       "<table id=\"T_0dd23168_494c_11e9_9fbf_7c67a267aeca\" > \n",
       "<thead>    <tr> \n",
       "        <th class=\"col_heading level0 col0\" >Gender</th> \n",
       "        <th class=\"col_heading level0 col1\" >Transactions</th> \n",
       "        <th class=\"col_heading level0 col2\" >Average Transaction</th> \n",
       "        <th class=\"col_heading level0 col3\" >Total Spent</th> \n",
       "        <th class=\"col_heading level0 col4\" >Average Spent per Player</th> \n",
       "    </tr></thead> \n",
       "<tbody>    <tr> \n",
       "        <td id=\"T_0dd23168_494c_11e9_9fbf_7c67a267aecarow0_col0\" class=\"data row0 col0\" >Female</td> \n",
       "        <td id=\"T_0dd23168_494c_11e9_9fbf_7c67a267aecarow0_col1\" class=\"data row0 col1\" >113</td> \n",
       "        <td id=\"T_0dd23168_494c_11e9_9fbf_7c67a267aecarow0_col2\" class=\"data row0 col2\" >$3.20</td> \n",
       "        <td id=\"T_0dd23168_494c_11e9_9fbf_7c67a267aecarow0_col3\" class=\"data row0 col3\" >$361.94</td> \n",
       "        <td id=\"T_0dd23168_494c_11e9_9fbf_7c67a267aecarow0_col4\" class=\"data row0 col4\" >$4.47</td> \n",
       "    </tr>    <tr> \n",
       "        <td id=\"T_0dd23168_494c_11e9_9fbf_7c67a267aecarow1_col0\" class=\"data row1 col0\" >Male</td> \n",
       "        <td id=\"T_0dd23168_494c_11e9_9fbf_7c67a267aecarow1_col1\" class=\"data row1 col1\" >652</td> \n",
       "        <td id=\"T_0dd23168_494c_11e9_9fbf_7c67a267aecarow1_col2\" class=\"data row1 col2\" >$3.02</td> \n",
       "        <td id=\"T_0dd23168_494c_11e9_9fbf_7c67a267aecarow1_col3\" class=\"data row1 col3\" >$1,967.64</td> \n",
       "        <td id=\"T_0dd23168_494c_11e9_9fbf_7c67a267aecarow1_col4\" class=\"data row1 col4\" >$4.07</td> \n",
       "    </tr>    <tr> \n",
       "        <td id=\"T_0dd23168_494c_11e9_9fbf_7c67a267aecarow2_col0\" class=\"data row2 col0\" >Other / Non-Disclosed</td> \n",
       "        <td id=\"T_0dd23168_494c_11e9_9fbf_7c67a267aecarow2_col1\" class=\"data row2 col1\" >15</td> \n",
       "        <td id=\"T_0dd23168_494c_11e9_9fbf_7c67a267aecarow2_col2\" class=\"data row2 col2\" >$3.35</td> \n",
       "        <td id=\"T_0dd23168_494c_11e9_9fbf_7c67a267aecarow2_col3\" class=\"data row2 col3\" >$50.19</td> \n",
       "        <td id=\"T_0dd23168_494c_11e9_9fbf_7c67a267aecarow2_col4\" class=\"data row2 col4\" >$4.56</td> \n",
       "    </tr></tbody> \n",
       "</table> "
      ],
      "text/plain": [
       "<pandas.io.formats.style.Styler at 0x1dcecccd860>"
      ]
     },
     "execution_count": 7,
     "metadata": {},
     "output_type": "execute_result"
    }
   ],
   "source": [
    "# Count transactions by gender and start a new DataFrame\n",
    "purch_count_gender = pd.DataFrame(purch_by_gender['Purchase ID'].count().reset_index())\n",
    "# Average transaction amount by gender\n",
    "price_avg_gender = pd.DataFrame(purch_by_gender['Price'].mean().reset_index())\n",
    "# Total spend by gender\n",
    "price_total_gender = pd.DataFrame(purch_by_gender['Price'].sum().reset_index())\n",
    "# Merge these into a new dataframe for further analysis, and rename columns\n",
    "merge_by_gender1 = purch_count_gender.merge(price_avg_gender,how='outer',on='Gender')\n",
    "merge_by_gender2 = merge_by_gender1.merge(price_total_gender,how='outer',on='Gender')\\\n",
    ".rename(columns={'Purchase ID':'Transactions','Price_x':'Average Transaction','Price_y':'Total Spent'})\n",
    "# Compute the average spent per player\n",
    "merge_by_gender2['Average Spent per Player'] = merge_by_gender2['Total Spent'] / gender_count['SN']\n",
    "# Format for display\n",
    "merge_by_gender2['Average Transaction'] = merge_by_gender2['Average Transaction'].map('${:,.2f}'.format)\n",
    "merge_by_gender2['Total Spent'] = merge_by_gender2['Total Spent'].map('${:,.2f}'.format)\n",
    "merge_by_gender2['Average Spent per Player'] = merge_by_gender2['Average Spent per Player'].map('${:,.2f}'.format)\n",
    "merge_by_gender2.style.hide_index()"
   ]
  },
  {
   "cell_type": "markdown",
   "metadata": {},
   "source": [
    "Players identifying as male spent slightly less than those identifying as other genders, on both a per transaction and total per player basis.  However, because of the larger numbers, they represent by far the largest source of revenue."
   ]
  },
  {
   "cell_type": "markdown",
   "metadata": {},
   "source": [
    "Game players overwhelmingly identify as male.  The following table compares purchase behavior by gender."
   ]
  },
  {
   "cell_type": "markdown",
   "metadata": {},
   "source": [
    "### Age-Group Analysis"
   ]
  },
  {
   "cell_type": "markdown",
   "metadata": {},
   "source": [
    "For age-based analysis, the purchase data was binned into five-year intervals, starting with under 10, 10-14, 15-19 ... ending with 40 and above (the maximum player age was 45)."
   ]
  },
  {
   "cell_type": "code",
   "execution_count": 8,
   "metadata": {},
   "outputs": [
    {
     "data": {
      "text/html": [
       "<style  type=\"text/css\" >\n",
       "</style>  \n",
       "<table id=\"T_0dddc1ba_494c_11e9_816a_7c67a267aeca\" > \n",
       "<thead>    <tr> \n",
       "        <th class=\"col_heading level0 col0\" >Age Group</th> \n",
       "        <th class=\"col_heading level0 col1\" >Items Purchased</th> \n",
       "        <th class=\"col_heading level0 col2\" >Average Item Price</th> \n",
       "        <th class=\"col_heading level0 col3\" >Total Revenue</th> \n",
       "        <th class=\"col_heading level0 col4\" >Revenue per Person</th> \n",
       "    </tr></thead> \n",
       "<tbody>    <tr> \n",
       "        <td id=\"T_0dddc1ba_494c_11e9_816a_7c67a267aecarow0_col0\" class=\"data row0 col0\" >Under 10</td> \n",
       "        <td id=\"T_0dddc1ba_494c_11e9_816a_7c67a267aecarow0_col1\" class=\"data row0 col1\" >32</td> \n",
       "        <td id=\"T_0dddc1ba_494c_11e9_816a_7c67a267aecarow0_col2\" class=\"data row0 col2\" >$3.40</td> \n",
       "        <td id=\"T_0dddc1ba_494c_11e9_816a_7c67a267aecarow0_col3\" class=\"data row0 col3\" >$108.96</td> \n",
       "        <td id=\"T_0dddc1ba_494c_11e9_816a_7c67a267aecarow0_col4\" class=\"data row0 col4\" >$4.54</td> \n",
       "    </tr>    <tr> \n",
       "        <td id=\"T_0dddc1ba_494c_11e9_816a_7c67a267aecarow1_col0\" class=\"data row1 col0\" >10-14</td> \n",
       "        <td id=\"T_0dddc1ba_494c_11e9_816a_7c67a267aecarow1_col1\" class=\"data row1 col1\" >54</td> \n",
       "        <td id=\"T_0dddc1ba_494c_11e9_816a_7c67a267aecarow1_col2\" class=\"data row1 col2\" >$2.90</td> \n",
       "        <td id=\"T_0dddc1ba_494c_11e9_816a_7c67a267aecarow1_col3\" class=\"data row1 col3\" >$156.60</td> \n",
       "        <td id=\"T_0dddc1ba_494c_11e9_816a_7c67a267aecarow1_col4\" class=\"data row1 col4\" >$3.82</td> \n",
       "    </tr>    <tr> \n",
       "        <td id=\"T_0dddc1ba_494c_11e9_816a_7c67a267aecarow2_col0\" class=\"data row2 col0\" >15-19</td> \n",
       "        <td id=\"T_0dddc1ba_494c_11e9_816a_7c67a267aecarow2_col1\" class=\"data row2 col1\" >101</td> \n",
       "        <td id=\"T_0dddc1ba_494c_11e9_816a_7c67a267aecarow2_col2\" class=\"data row2 col2\" >$3.04</td> \n",
       "        <td id=\"T_0dddc1ba_494c_11e9_816a_7c67a267aecarow2_col3\" class=\"data row2 col3\" >$307.24</td> \n",
       "        <td id=\"T_0dddc1ba_494c_11e9_816a_7c67a267aecarow2_col4\" class=\"data row2 col4\" >$3.79</td> \n",
       "    </tr>    <tr> \n",
       "        <td id=\"T_0dddc1ba_494c_11e9_816a_7c67a267aecarow3_col0\" class=\"data row3 col0\" >20-24</td> \n",
       "        <td id=\"T_0dddc1ba_494c_11e9_816a_7c67a267aecarow3_col1\" class=\"data row3 col1\" >365</td> \n",
       "        <td id=\"T_0dddc1ba_494c_11e9_816a_7c67a267aecarow3_col2\" class=\"data row3 col2\" >$3.05</td> \n",
       "        <td id=\"T_0dddc1ba_494c_11e9_816a_7c67a267aecarow3_col3\" class=\"data row3 col3\" >$1,114.06</td> \n",
       "        <td id=\"T_0dddc1ba_494c_11e9_816a_7c67a267aecarow3_col4\" class=\"data row3 col4\" >$4.32</td> \n",
       "    </tr>    <tr> \n",
       "        <td id=\"T_0dddc1ba_494c_11e9_816a_7c67a267aecarow4_col0\" class=\"data row4 col0\" >25-29</td> \n",
       "        <td id=\"T_0dddc1ba_494c_11e9_816a_7c67a267aecarow4_col1\" class=\"data row4 col1\" >101</td> \n",
       "        <td id=\"T_0dddc1ba_494c_11e9_816a_7c67a267aecarow4_col2\" class=\"data row4 col2\" >$2.90</td> \n",
       "        <td id=\"T_0dddc1ba_494c_11e9_816a_7c67a267aecarow4_col3\" class=\"data row4 col3\" >$293.00</td> \n",
       "        <td id=\"T_0dddc1ba_494c_11e9_816a_7c67a267aecarow4_col4\" class=\"data row4 col4\" >$3.81</td> \n",
       "    </tr>    <tr> \n",
       "        <td id=\"T_0dddc1ba_494c_11e9_816a_7c67a267aecarow5_col0\" class=\"data row5 col0\" >30-34</td> \n",
       "        <td id=\"T_0dddc1ba_494c_11e9_816a_7c67a267aecarow5_col1\" class=\"data row5 col1\" >73</td> \n",
       "        <td id=\"T_0dddc1ba_494c_11e9_816a_7c67a267aecarow5_col2\" class=\"data row5 col2\" >$2.93</td> \n",
       "        <td id=\"T_0dddc1ba_494c_11e9_816a_7c67a267aecarow5_col3\" class=\"data row5 col3\" >$214.00</td> \n",
       "        <td id=\"T_0dddc1ba_494c_11e9_816a_7c67a267aecarow5_col4\" class=\"data row5 col4\" >$4.12</td> \n",
       "    </tr>    <tr> \n",
       "        <td id=\"T_0dddc1ba_494c_11e9_816a_7c67a267aecarow6_col0\" class=\"data row6 col0\" >35-39</td> \n",
       "        <td id=\"T_0dddc1ba_494c_11e9_816a_7c67a267aecarow6_col1\" class=\"data row6 col1\" >41</td> \n",
       "        <td id=\"T_0dddc1ba_494c_11e9_816a_7c67a267aecarow6_col2\" class=\"data row6 col2\" >$3.60</td> \n",
       "        <td id=\"T_0dddc1ba_494c_11e9_816a_7c67a267aecarow6_col3\" class=\"data row6 col3\" >$147.67</td> \n",
       "        <td id=\"T_0dddc1ba_494c_11e9_816a_7c67a267aecarow6_col4\" class=\"data row6 col4\" >$4.76</td> \n",
       "    </tr>    <tr> \n",
       "        <td id=\"T_0dddc1ba_494c_11e9_816a_7c67a267aecarow7_col0\" class=\"data row7 col0\" >40 and over</td> \n",
       "        <td id=\"T_0dddc1ba_494c_11e9_816a_7c67a267aecarow7_col1\" class=\"data row7 col1\" >13</td> \n",
       "        <td id=\"T_0dddc1ba_494c_11e9_816a_7c67a267aecarow7_col2\" class=\"data row7 col2\" >$2.94</td> \n",
       "        <td id=\"T_0dddc1ba_494c_11e9_816a_7c67a267aecarow7_col3\" class=\"data row7 col3\" >$38.24</td> \n",
       "        <td id=\"T_0dddc1ba_494c_11e9_816a_7c67a267aecarow7_col4\" class=\"data row7 col4\" >$3.19</td> \n",
       "    </tr></tbody> \n",
       "</table> "
      ],
      "text/plain": [
       "<pandas.io.formats.style.Styler at 0x1dceda41b00>"
      ]
     },
     "execution_count": 8,
     "metadata": {},
     "output_type": "execute_result"
    }
   ],
   "source": [
    "# Set up bind and labels for age groups\n",
    "bins = [0, 10, 15, 19, 24, 29, 34, 39, 46]\n",
    "age_labels = ['Under 10','10-14', '15-19', '20-24', '25-29', '30-34', '35-39', '40 and over']\n",
    "# Create age groups designation and append to DataFrame\n",
    "purchase_df['Age Group'] = pd.cut(purchase_df.Age,bins,labels=age_labels)\n",
    "# Create groupby with age groups \n",
    "purch_by_agegroup = purchase_df.groupby('Age Group')\n",
    "# Start a new DataFrame with a re-labeled column head, showing count of items purchased by age group\n",
    "purchase_byage_df = pd.DataFrame(purch_by_agegroup['Purchase ID'].count().reset_index().rename(columns={\"Purchase ID\":\"Items Purchased\"}))\n",
    "# Make new columns with average price and total spend by age group\n",
    "merge3 = purchase_byage_df.merge(pd.DataFrame(purch_by_agegroup['Price'].mean().rename('Average Item Price')), on='Age Group', how='outer')\n",
    "purchase_byage_df = merge3.merge(pd.DataFrame(purch_by_agegroup['Price'].sum().rename('Total Revenue')), on='Age Group', how='outer')\n",
    "# Make one new column with average spend per person\n",
    "perperson_spend_by_age = purchase_df.groupby('Age Group').apply(lambda grp : grp.Price.sum() / grp.SN.nunique())\n",
    "purchase_byage_df = purchase_byage_df.merge(pd.DataFrame(perperson_spend_by_age.rename('Revenue per Person')), on='Age Group', how='outer')\n",
    "# Clean up the column formats for display \n",
    "purchase_byage_df['Average Item Price'] = purchase_byage_df['Average Item Price'].map('${:,.2f}'.format)\n",
    "purchase_byage_df['Total Revenue'] = purchase_byage_df['Total Revenue'].map('${:,.2f}'.format)\n",
    "purchase_byage_df['Revenue per Person'] = purchase_byage_df['Revenue per Person'].map('${:,.2f}'.format)\n",
    "purchase_byage_df.style.hide_index()"
   ]
  },
  {
   "cell_type": "markdown",
   "metadata": {},
   "source": [
    "Almost 50% of revenue was generated by 20-24 years olds, although on a per-person basis, their spending was not especially large.  On a per-person basis, players aged 35-39 outspent other age groups by about 20% per purchase, and players under 10 were also associated with a higher average item price and revenue per person.  "
   ]
  },
  {
   "cell_type": "markdown",
   "metadata": {},
   "source": [
    "### Top purchasers, most popular items, and largest sources of revenue"
   ]
  },
  {
   "cell_type": "markdown",
   "metadata": {},
   "source": [
    "The table below shows the key characteritics of the five players with the largest total purchase values."
   ]
  },
  {
   "cell_type": "code",
   "execution_count": 9,
   "metadata": {},
   "outputs": [
    {
     "data": {
      "text/html": [
       "<style  type=\"text/css\" >\n",
       "</style>  \n",
       "<table id=\"T_0dea155e_494c_11e9_af75_7c67a267aeca\" > \n",
       "<thead>    <tr> \n",
       "        <th class=\"col_heading level0 col0\" >SN</th> \n",
       "        <th class=\"col_heading level0 col1\" >Items Purchased</th> \n",
       "        <th class=\"col_heading level0 col2\" >Average Price</th> \n",
       "        <th class=\"col_heading level0 col3\" >Total Spent</th> \n",
       "    </tr></thead> \n",
       "<tbody>    <tr> \n",
       "        <td id=\"T_0dea155e_494c_11e9_af75_7c67a267aecarow0_col0\" class=\"data row0 col0\" >Lisosia93</td> \n",
       "        <td id=\"T_0dea155e_494c_11e9_af75_7c67a267aecarow0_col1\" class=\"data row0 col1\" >5</td> \n",
       "        <td id=\"T_0dea155e_494c_11e9_af75_7c67a267aecarow0_col2\" class=\"data row0 col2\" >$3.79</td> \n",
       "        <td id=\"T_0dea155e_494c_11e9_af75_7c67a267aecarow0_col3\" class=\"data row0 col3\" >$18.96</td> \n",
       "    </tr>    <tr> \n",
       "        <td id=\"T_0dea155e_494c_11e9_af75_7c67a267aecarow1_col0\" class=\"data row1 col0\" >Idastidru52</td> \n",
       "        <td id=\"T_0dea155e_494c_11e9_af75_7c67a267aecarow1_col1\" class=\"data row1 col1\" >4</td> \n",
       "        <td id=\"T_0dea155e_494c_11e9_af75_7c67a267aecarow1_col2\" class=\"data row1 col2\" >$3.86</td> \n",
       "        <td id=\"T_0dea155e_494c_11e9_af75_7c67a267aecarow1_col3\" class=\"data row1 col3\" >$15.45</td> \n",
       "    </tr>    <tr> \n",
       "        <td id=\"T_0dea155e_494c_11e9_af75_7c67a267aecarow2_col0\" class=\"data row2 col0\" >Chamjask73</td> \n",
       "        <td id=\"T_0dea155e_494c_11e9_af75_7c67a267aecarow2_col1\" class=\"data row2 col1\" >3</td> \n",
       "        <td id=\"T_0dea155e_494c_11e9_af75_7c67a267aecarow2_col2\" class=\"data row2 col2\" >$4.61</td> \n",
       "        <td id=\"T_0dea155e_494c_11e9_af75_7c67a267aecarow2_col3\" class=\"data row2 col3\" >$13.83</td> \n",
       "    </tr>    <tr> \n",
       "        <td id=\"T_0dea155e_494c_11e9_af75_7c67a267aecarow3_col0\" class=\"data row3 col0\" >Iral74</td> \n",
       "        <td id=\"T_0dea155e_494c_11e9_af75_7c67a267aecarow3_col1\" class=\"data row3 col1\" >4</td> \n",
       "        <td id=\"T_0dea155e_494c_11e9_af75_7c67a267aecarow3_col2\" class=\"data row3 col2\" >$3.40</td> \n",
       "        <td id=\"T_0dea155e_494c_11e9_af75_7c67a267aecarow3_col3\" class=\"data row3 col3\" >$13.62</td> \n",
       "    </tr>    <tr> \n",
       "        <td id=\"T_0dea155e_494c_11e9_af75_7c67a267aecarow4_col0\" class=\"data row4 col0\" >Iskadarya95</td> \n",
       "        <td id=\"T_0dea155e_494c_11e9_af75_7c67a267aecarow4_col1\" class=\"data row4 col1\" >3</td> \n",
       "        <td id=\"T_0dea155e_494c_11e9_af75_7c67a267aecarow4_col2\" class=\"data row4 col2\" >$4.37</td> \n",
       "        <td id=\"T_0dea155e_494c_11e9_af75_7c67a267aecarow4_col3\" class=\"data row4 col3\" >$13.10</td> \n",
       "    </tr></tbody> \n",
       "</table> "
      ],
      "text/plain": [
       "<pandas.io.formats.style.Styler at 0x1dceda110b8>"
      ]
     },
     "execution_count": 9,
     "metadata": {},
     "output_type": "execute_result"
    }
   ],
   "source": [
    "# Generate the groupby DataFrame\n",
    "top5_players = purchase_df.groupby('SN').agg({'Purchase ID':'count','Price':['mean','sum']}).reset_index()\n",
    "# Sort and chop to top 5\n",
    "top5_players = top5_players.sort_values([('Price','sum')],ascending=False).head(5)\n",
    "# Prettify with new, single-level column names and formats\n",
    "top5_players.columns = top5_players.columns.get_level_values(0)\n",
    "top5_players.columns = ['SN','Items Purchased','Average Price','Total Spent']\n",
    "top5_players['Average Price'] = top5_players['Average Price'].map('${:,.2f}'.format)\n",
    "top5_players['Total Spent'] = top5_players['Total Spent'].map('${:,.2f}'.format)\n",
    "# Display\n",
    "top5_players.style.hide_index()"
   ]
  },
  {
   "cell_type": "markdown",
   "metadata": {},
   "source": [
    "In this data set, the top 1% of spenders outspent the average player by a factor of roughly 3-4.   "
   ]
  },
  {
   "cell_type": "markdown",
   "metadata": {},
   "source": [
    "The table below shows the key characteritics of the five most popular items."
   ]
  },
  {
   "cell_type": "code",
   "execution_count": 10,
   "metadata": {},
   "outputs": [
    {
     "data": {
      "text/html": [
       "<style  type=\"text/css\" >\n",
       "</style>  \n",
       "<table id=\"T_0df5a628_494c_11e9_b21f_7c67a267aeca\" > \n",
       "<thead>    <tr> \n",
       "        <th class=\"col_heading level0 col0\" >Item ID</th> \n",
       "        <th class=\"col_heading level0 col1\" >Item Name</th> \n",
       "        <th class=\"col_heading level0 col2\" >Times Purchased</th> \n",
       "        <th class=\"col_heading level0 col3\" >Average Price</th> \n",
       "        <th class=\"col_heading level0 col4\" >Total Spent</th> \n",
       "    </tr></thead> \n",
       "<tbody>    <tr> \n",
       "        <td id=\"T_0df5a628_494c_11e9_b21f_7c67a267aecarow0_col0\" class=\"data row0 col0\" >178</td> \n",
       "        <td id=\"T_0df5a628_494c_11e9_b21f_7c67a267aecarow0_col1\" class=\"data row0 col1\" >Oathbreaker, Last Hope of the Breaking Storm</td> \n",
       "        <td id=\"T_0df5a628_494c_11e9_b21f_7c67a267aecarow0_col2\" class=\"data row0 col2\" >12</td> \n",
       "        <td id=\"T_0df5a628_494c_11e9_b21f_7c67a267aecarow0_col3\" class=\"data row0 col3\" >$4.23</td> \n",
       "        <td id=\"T_0df5a628_494c_11e9_b21f_7c67a267aecarow0_col4\" class=\"data row0 col4\" >$50.76</td> \n",
       "    </tr>    <tr> \n",
       "        <td id=\"T_0df5a628_494c_11e9_b21f_7c67a267aecarow1_col0\" class=\"data row1 col0\" >145</td> \n",
       "        <td id=\"T_0df5a628_494c_11e9_b21f_7c67a267aecarow1_col1\" class=\"data row1 col1\" >Fiery Glass Crusader</td> \n",
       "        <td id=\"T_0df5a628_494c_11e9_b21f_7c67a267aecarow1_col2\" class=\"data row1 col2\" >9</td> \n",
       "        <td id=\"T_0df5a628_494c_11e9_b21f_7c67a267aecarow1_col3\" class=\"data row1 col3\" >$4.58</td> \n",
       "        <td id=\"T_0df5a628_494c_11e9_b21f_7c67a267aecarow1_col4\" class=\"data row1 col4\" >$41.22</td> \n",
       "    </tr>    <tr> \n",
       "        <td id=\"T_0df5a628_494c_11e9_b21f_7c67a267aecarow2_col0\" class=\"data row2 col0\" >108</td> \n",
       "        <td id=\"T_0df5a628_494c_11e9_b21f_7c67a267aecarow2_col1\" class=\"data row2 col1\" >Extraction, Quickblade Of Trembling Hands</td> \n",
       "        <td id=\"T_0df5a628_494c_11e9_b21f_7c67a267aecarow2_col2\" class=\"data row2 col2\" >9</td> \n",
       "        <td id=\"T_0df5a628_494c_11e9_b21f_7c67a267aecarow2_col3\" class=\"data row2 col3\" >$3.53</td> \n",
       "        <td id=\"T_0df5a628_494c_11e9_b21f_7c67a267aecarow2_col4\" class=\"data row2 col4\" >$31.77</td> \n",
       "    </tr>    <tr> \n",
       "        <td id=\"T_0df5a628_494c_11e9_b21f_7c67a267aecarow3_col0\" class=\"data row3 col0\" >82</td> \n",
       "        <td id=\"T_0df5a628_494c_11e9_b21f_7c67a267aecarow3_col1\" class=\"data row3 col1\" >Nirvana</td> \n",
       "        <td id=\"T_0df5a628_494c_11e9_b21f_7c67a267aecarow3_col2\" class=\"data row3 col2\" >9</td> \n",
       "        <td id=\"T_0df5a628_494c_11e9_b21f_7c67a267aecarow3_col3\" class=\"data row3 col3\" >$4.90</td> \n",
       "        <td id=\"T_0df5a628_494c_11e9_b21f_7c67a267aecarow3_col4\" class=\"data row3 col4\" >$44.10</td> \n",
       "    </tr>    <tr> \n",
       "        <td id=\"T_0df5a628_494c_11e9_b21f_7c67a267aecarow4_col0\" class=\"data row4 col0\" >19</td> \n",
       "        <td id=\"T_0df5a628_494c_11e9_b21f_7c67a267aecarow4_col1\" class=\"data row4 col1\" >Pursuit, Cudgel of Necromancy</td> \n",
       "        <td id=\"T_0df5a628_494c_11e9_b21f_7c67a267aecarow4_col2\" class=\"data row4 col2\" >8</td> \n",
       "        <td id=\"T_0df5a628_494c_11e9_b21f_7c67a267aecarow4_col3\" class=\"data row4 col3\" >$1.02</td> \n",
       "        <td id=\"T_0df5a628_494c_11e9_b21f_7c67a267aecarow4_col4\" class=\"data row4 col4\" >$8.16</td> \n",
       "    </tr></tbody> \n",
       "</table> "
      ],
      "text/plain": [
       "<pandas.io.formats.style.Styler at 0x1dceda32780>"
      ]
     },
     "execution_count": 10,
     "metadata": {},
     "output_type": "execute_result"
    }
   ],
   "source": [
    "# Generate the groupby DataFrame\n",
    "top5_items = purchase_df.groupby('Item ID').agg({'Item Name':'first','Purchase ID':'count','Price':['mean','sum']}).reset_index()\n",
    "# Sort and chop to top 5\n",
    "top5_items = top5_items.sort_values([('Purchase ID','count')],ascending=False).head(5)\n",
    "# Prettify with new, single-level column names and formats\n",
    "top5_items.columns = top5_items.columns.get_level_values(0)\n",
    "top5_items.columns = ['Item ID','Item Name','Times Purchased', 'Average Price','Total Spent']\n",
    "top5_items['Average Price'] = top5_items['Average Price'].map('${:,.2f}'.format)\n",
    "top5_items['Total Spent'] = top5_items['Total Spent'].map('${:,.2f}'.format)\n",
    "# Display\n",
    "top5_items.style.hide_index()"
   ]
  },
  {
   "cell_type": "markdown",
   "metadata": {},
   "source": [
    " In this data set, the top five items are purchased 2-3 x as often as the \"average\" (780 transactions for 179 items yields an average of somewhat over four purchases per item)"
   ]
  },
  {
   "cell_type": "markdown",
   "metadata": {},
   "source": [
    "The table below shows the key characteritics of the five items that generated the most revenue."
   ]
  },
  {
   "cell_type": "code",
   "execution_count": 11,
   "metadata": {},
   "outputs": [
    {
     "data": {
      "text/html": [
       "<style  type=\"text/css\" >\n",
       "</style>  \n",
       "<table id=\"T_0e002642_494c_11e9_81ad_7c67a267aeca\" > \n",
       "<thead>    <tr> \n",
       "        <th class=\"col_heading level0 col0\" >Item ID</th> \n",
       "        <th class=\"col_heading level0 col1\" >Item Name</th> \n",
       "        <th class=\"col_heading level0 col2\" >Times Purchased</th> \n",
       "        <th class=\"col_heading level0 col3\" >Average Price</th> \n",
       "        <th class=\"col_heading level0 col4\" >Total Spent</th> \n",
       "    </tr></thead> \n",
       "<tbody>    <tr> \n",
       "        <td id=\"T_0e002642_494c_11e9_81ad_7c67a267aecarow0_col0\" class=\"data row0 col0\" >178</td> \n",
       "        <td id=\"T_0e002642_494c_11e9_81ad_7c67a267aecarow0_col1\" class=\"data row0 col1\" >Oathbreaker, Last Hope of the Breaking Storm</td> \n",
       "        <td id=\"T_0e002642_494c_11e9_81ad_7c67a267aecarow0_col2\" class=\"data row0 col2\" >12</td> \n",
       "        <td id=\"T_0e002642_494c_11e9_81ad_7c67a267aecarow0_col3\" class=\"data row0 col3\" >$4.23</td> \n",
       "        <td id=\"T_0e002642_494c_11e9_81ad_7c67a267aecarow0_col4\" class=\"data row0 col4\" >$50.76</td> \n",
       "    </tr>    <tr> \n",
       "        <td id=\"T_0e002642_494c_11e9_81ad_7c67a267aecarow1_col0\" class=\"data row1 col0\" >82</td> \n",
       "        <td id=\"T_0e002642_494c_11e9_81ad_7c67a267aecarow1_col1\" class=\"data row1 col1\" >Nirvana</td> \n",
       "        <td id=\"T_0e002642_494c_11e9_81ad_7c67a267aecarow1_col2\" class=\"data row1 col2\" >9</td> \n",
       "        <td id=\"T_0e002642_494c_11e9_81ad_7c67a267aecarow1_col3\" class=\"data row1 col3\" >$4.90</td> \n",
       "        <td id=\"T_0e002642_494c_11e9_81ad_7c67a267aecarow1_col4\" class=\"data row1 col4\" >$44.10</td> \n",
       "    </tr>    <tr> \n",
       "        <td id=\"T_0e002642_494c_11e9_81ad_7c67a267aecarow2_col0\" class=\"data row2 col0\" >145</td> \n",
       "        <td id=\"T_0e002642_494c_11e9_81ad_7c67a267aecarow2_col1\" class=\"data row2 col1\" >Fiery Glass Crusader</td> \n",
       "        <td id=\"T_0e002642_494c_11e9_81ad_7c67a267aecarow2_col2\" class=\"data row2 col2\" >9</td> \n",
       "        <td id=\"T_0e002642_494c_11e9_81ad_7c67a267aecarow2_col3\" class=\"data row2 col3\" >$4.58</td> \n",
       "        <td id=\"T_0e002642_494c_11e9_81ad_7c67a267aecarow2_col4\" class=\"data row2 col4\" >$41.22</td> \n",
       "    </tr>    <tr> \n",
       "        <td id=\"T_0e002642_494c_11e9_81ad_7c67a267aecarow3_col0\" class=\"data row3 col0\" >92</td> \n",
       "        <td id=\"T_0e002642_494c_11e9_81ad_7c67a267aecarow3_col1\" class=\"data row3 col1\" >Final Critic</td> \n",
       "        <td id=\"T_0e002642_494c_11e9_81ad_7c67a267aecarow3_col2\" class=\"data row3 col2\" >8</td> \n",
       "        <td id=\"T_0e002642_494c_11e9_81ad_7c67a267aecarow3_col3\" class=\"data row3 col3\" >$4.88</td> \n",
       "        <td id=\"T_0e002642_494c_11e9_81ad_7c67a267aecarow3_col4\" class=\"data row3 col4\" >$39.04</td> \n",
       "    </tr>    <tr> \n",
       "        <td id=\"T_0e002642_494c_11e9_81ad_7c67a267aecarow4_col0\" class=\"data row4 col0\" >103</td> \n",
       "        <td id=\"T_0e002642_494c_11e9_81ad_7c67a267aecarow4_col1\" class=\"data row4 col1\" >Singed Scalpel</td> \n",
       "        <td id=\"T_0e002642_494c_11e9_81ad_7c67a267aecarow4_col2\" class=\"data row4 col2\" >8</td> \n",
       "        <td id=\"T_0e002642_494c_11e9_81ad_7c67a267aecarow4_col3\" class=\"data row4 col3\" >$4.35</td> \n",
       "        <td id=\"T_0e002642_494c_11e9_81ad_7c67a267aecarow4_col4\" class=\"data row4 col4\" >$34.80</td> \n",
       "    </tr></tbody> \n",
       "</table> "
      ],
      "text/plain": [
       "<pandas.io.formats.style.Styler at 0x1dcecc757f0>"
      ]
     },
     "execution_count": 11,
     "metadata": {},
     "output_type": "execute_result"
    }
   ],
   "source": [
    "# Generate the groupby DataFrame\n",
    "top5_sales = purchase_df.groupby('Item ID').agg({'Item Name':'first','Purchase ID':'count','Price':['mean','sum']}).reset_index()\n",
    "# Sort and chop to top 5\n",
    "top5_sales = top5_sales.sort_values([('Price','sum')],ascending=False).head(5)\n",
    "# Prettify with new, single-level column names and formats\n",
    "top5_sales.columns = top5_sales.columns.get_level_values(0)\n",
    "top5_sales.columns = ['Item ID','Item Name','Times Purchased', 'Average Price','Total Spent']\n",
    "top5_sales['Average Price'] = top5_sales['Average Price'].map('${:,.2f}'.format)\n",
    "top5_sales['Total Spent'] = top5_sales['Total Spent'].map('${:,.2f}'.format)\n",
    "# Display\n",
    "top5_sales.style.hide_index()"
   ]
  },
  {
   "cell_type": "markdown",
   "metadata": {},
   "source": [
    "In this data set, the top five items by revenue generated 3-4 x the average revenue per item (\\\\$2,379.77 total revenue over 179 unique items yields an average of about \\\\$13.30 per item.  These items all have a higher than average price, so less\n",
    "expensive items with higher demand do not appear to produce high revenues.  On the other hand, three of the five most popular\n",
    "items are also in the top five revenue producers.  It would appear that making higher-priced items more popular has resulted in maximizing revenue per item.  "
   ]
  },
  {
   "cell_type": "code",
   "execution_count": null,
   "metadata": {},
   "outputs": [],
   "source": []
  }
 ],
 "metadata": {
  "kernelspec": {
   "display_name": "Python 3",
   "language": "python",
   "name": "python3"
  },
  "language_info": {
   "codemirror_mode": {
    "name": "ipython",
    "version": 3
   },
   "file_extension": ".py",
   "mimetype": "text/x-python",
   "name": "python",
   "nbconvert_exporter": "python",
   "pygments_lexer": "ipython3",
   "version": "3.7.1"
  }
 },
 "nbformat": 4,
 "nbformat_minor": 2
}
