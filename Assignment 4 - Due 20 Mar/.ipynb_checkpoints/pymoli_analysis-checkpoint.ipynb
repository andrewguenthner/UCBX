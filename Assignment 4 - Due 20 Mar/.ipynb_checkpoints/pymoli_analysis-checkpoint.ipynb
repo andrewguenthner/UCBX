{
 "cells": [
  {
   "cell_type": "markdown",
   "metadata": {},
   "source": [
    "## Analysis of Player Purchasing in \"Pymoli\"\n",
    "by:  Andrew Guenthner\n",
    "Date:  20 Mar 2019\n",
    "\n",
    "Notes:  To run the analyses, the input file \"purchase_data.csv\" needs to be in a folder\n",
    "called \"Resources\" in the same directory as this notebook.  \n",
    "\n",
    "An accompanying \"README\" file should also be available in the same directory as this\n",
    "notebook.  "
   ]
  },
  {
   "cell_type": "code",
   "execution_count": 2,
   "metadata": {},
   "outputs": [],
   "source": [
    "# Import dependencies\n",
    "import pandas as pd\n",
    "\n",
    "# Set up file input\n",
    "purchase_data_source = 'Resources/purchase_data.csv'\n",
    "purchase_df = pd.read_csv(purchase_data_source)"
   ]
  },
  {
   "cell_type": "code",
   "execution_count": 22,
   "metadata": {
    "scrolled": true
   },
   "outputs": [
    {
     "data": {
      "text/html": [
       "<div>\n",
       "<style scoped>\n",
       "    .dataframe tbody tr th:only-of-type {\n",
       "        vertical-align: middle;\n",
       "    }\n",
       "\n",
       "    .dataframe tbody tr th {\n",
       "        vertical-align: top;\n",
       "    }\n",
       "\n",
       "    .dataframe thead th {\n",
       "        text-align: right;\n",
       "    }\n",
       "</style>\n",
       "<table border=\"1\" class=\"dataframe\">\n",
       "  <thead>\n",
       "    <tr style=\"text-align: right;\">\n",
       "      <th></th>\n",
       "      <th>Purchase ID</th>\n",
       "      <th>SN</th>\n",
       "      <th>Age</th>\n",
       "      <th>Gender</th>\n",
       "      <th>Item ID</th>\n",
       "      <th>Item Name</th>\n",
       "      <th>Price</th>\n",
       "    </tr>\n",
       "  </thead>\n",
       "  <tbody>\n",
       "    <tr>\n",
       "      <th>0</th>\n",
       "      <td>0</td>\n",
       "      <td>Lisim78</td>\n",
       "      <td>20</td>\n",
       "      <td>Male</td>\n",
       "      <td>108</td>\n",
       "      <td>Extraction, Quickblade Of Trembling Hands</td>\n",
       "      <td>3.53</td>\n",
       "    </tr>\n",
       "    <tr>\n",
       "      <th>1</th>\n",
       "      <td>1</td>\n",
       "      <td>Lisovynya38</td>\n",
       "      <td>40</td>\n",
       "      <td>Male</td>\n",
       "      <td>143</td>\n",
       "      <td>Frenzied Scimitar</td>\n",
       "      <td>1.56</td>\n",
       "    </tr>\n",
       "    <tr>\n",
       "      <th>2</th>\n",
       "      <td>2</td>\n",
       "      <td>Ithergue48</td>\n",
       "      <td>24</td>\n",
       "      <td>Male</td>\n",
       "      <td>92</td>\n",
       "      <td>Final Critic</td>\n",
       "      <td>4.88</td>\n",
       "    </tr>\n",
       "    <tr>\n",
       "      <th>3</th>\n",
       "      <td>3</td>\n",
       "      <td>Chamassasya86</td>\n",
       "      <td>24</td>\n",
       "      <td>Male</td>\n",
       "      <td>100</td>\n",
       "      <td>Blindscythe</td>\n",
       "      <td>3.27</td>\n",
       "    </tr>\n",
       "    <tr>\n",
       "      <th>4</th>\n",
       "      <td>4</td>\n",
       "      <td>Iskosia90</td>\n",
       "      <td>23</td>\n",
       "      <td>Male</td>\n",
       "      <td>131</td>\n",
       "      <td>Fury</td>\n",
       "      <td>1.44</td>\n",
       "    </tr>\n",
       "  </tbody>\n",
       "</table>\n",
       "</div>"
      ],
      "text/plain": [
       "   Purchase ID             SN  Age Gender  Item ID  \\\n",
       "0            0        Lisim78   20   Male      108   \n",
       "1            1    Lisovynya38   40   Male      143   \n",
       "2            2     Ithergue48   24   Male       92   \n",
       "3            3  Chamassasya86   24   Male      100   \n",
       "4            4      Iskosia90   23   Male      131   \n",
       "\n",
       "                                   Item Name  Price  \n",
       "0  Extraction, Quickblade Of Trembling Hands   3.53  \n",
       "1                          Frenzied Scimitar   1.56  \n",
       "2                               Final Critic   4.88  \n",
       "3                                Blindscythe   3.27  \n",
       "4                                       Fury   1.44  "
      ]
     },
     "execution_count": 22,
     "metadata": {},
     "output_type": "execute_result"
    }
   ],
   "source": [
    "# Check file header to make sure the DataFrame has loaded correctly\n",
    "purchase_df.head()"
   ]
  },
  {
   "cell_type": "markdown",
   "metadata": {},
   "source": [
    "These data sets are expected to be clean and ready-to-go.  To verify, a simple check\n",
    "for any missing values will suffice."
   ]
  },
  {
   "cell_type": "code",
   "execution_count": 4,
   "metadata": {},
   "outputs": [
    {
     "data": {
      "text/plain": [
       "Purchase ID    0\n",
       "SN             0\n",
       "Age            0\n",
       "Gender         0\n",
       "Item ID        0\n",
       "Item Name      0\n",
       "Price          0\n",
       "dtype: int64"
      ]
     },
     "execution_count": 4,
     "metadata": {},
     "output_type": "execute_result"
    }
   ],
   "source": [
    "# Quick check for any missing values ...\n",
    "purchase_df.isnull().sum()"
   ]
  },
  {
   "cell_type": "code",
   "execution_count": 8,
   "metadata": {},
   "outputs": [
    {
     "data": {
      "text/plain": [
       "Purchase ID      int64\n",
       "SN              object\n",
       "Age              int64\n",
       "Gender          object\n",
       "Item ID          int64\n",
       "Item Name       object\n",
       "Price          float64\n",
       "dtype: object"
      ]
     },
     "execution_count": 8,
     "metadata": {},
     "output_type": "execute_result"
    }
   ],
   "source": [
    "# Note the data types of each column for reference.\n",
    "purchase_df.dtypes"
   ]
  },
  {
   "cell_type": "markdown",
   "metadata": {},
   "source": [
    "### Initial exploratory analysis"
   ]
  },
  {
   "cell_type": "markdown",
   "metadata": {},
   "source": [
    "Some basic characteristics of the data: \n",
    "\n",
    "1) Total number of players in the dataset (assuming one screen name per player):"
   ]
  },
  {
   "cell_type": "code",
   "execution_count": 10,
   "metadata": {},
   "outputs": [
    {
     "data": {
      "text/plain": [
       "576"
      ]
     },
     "execution_count": 10,
     "metadata": {},
     "output_type": "execute_result"
    }
   ],
   "source": [
    "# Compute total number of unique screen names\n",
    "purchase_df.SN.nunique()"
   ]
  },
  {
   "cell_type": "markdown",
   "metadata": {},
   "source": [
    "This is a reasonable size group for drawing inferences from the total set, but small enough that\n",
    "we may need to be careful about analyzing subsets, such as particular age groups."
   ]
  },
  {
   "cell_type": "markdown",
   "metadata": {},
   "source": [
    "2) Total number of items purchased, the average transaction price, total number of transactions, and total revenue represented by these transactions.  For clarity, a \"transaction\" refers to the event of purchasing a single item recorded by the system, whereas a \"purchase\" refers to the player behavior of buying one or more items.  "
   ]
  },
  {
   "cell_type": "code",
   "execution_count": 11,
   "metadata": {},
   "outputs": [
    {
     "data": {
      "text/plain": [
       "179"
      ]
     },
     "execution_count": 11,
     "metadata": {},
     "output_type": "execute_result"
    }
   ],
   "source": [
    "# Compute total number of unique item codes\n",
    "purchase_df['Item Name'].nunique()"
   ]
  },
  {
   "cell_type": "code",
   "execution_count": 19,
   "metadata": {},
   "outputs": [
    {
     "name": "stdout",
     "output_type": "stream",
     "text": [
      "$3.05\n"
     ]
    }
   ],
   "source": [
    "# Compute average purchase price\n",
    "print('${:.2f}'.format(purchase_df.Price.mean()))"
   ]
  },
  {
   "cell_type": "code",
   "execution_count": 20,
   "metadata": {},
   "outputs": [
    {
     "data": {
      "text/plain": [
       "780"
      ]
     },
     "execution_count": 20,
     "metadata": {},
     "output_type": "execute_result"
    }
   ],
   "source": [
    "#Total number of transactions\n",
    "purchase_df['Purchase ID'].count()"
   ]
  },
  {
   "cell_type": "code",
   "execution_count": 27,
   "metadata": {},
   "outputs": [
    {
     "name": "stdout",
     "output_type": "stream",
     "text": [
      "$2,379.77\n"
     ]
    }
   ],
   "source": [
    "#Total revenue generated\n",
    "print(f'${purchase_df.Price.sum():,.2f}')"
   ]
  },
  {
   "cell_type": "markdown",
   "metadata": {},
   "source": [
    "The transactions dataset is large enough to draw some meaningful conclusions on, as long as deep sub-divisions are avoided."
   ]
  },
  {
   "cell_type": "markdown",
   "metadata": {},
   "source": [
    "### Gender-Based Analysis"
   ]
  },
  {
   "cell_type": "markdown",
   "metadata": {},
   "source": [
    "The breakdown of the data by gender is as follows:\n",
    "\n",
    "1) Players by gender (based on unique screen name count)"
   ]
  },
  {
   "cell_type": "code",
   "execution_count": 78,
   "metadata": {},
   "outputs": [
    {
     "data": {
      "text/html": [
       "<style  type=\"text/css\" >\n",
       "</style>  \n",
       "<table id=\"T_3ec83ff0_46e3_11e9_bcb7_7c67a267aeca\" > \n",
       "<thead>    <tr> \n",
       "        <th class=\"col_heading level0 col0\" >Gender</th> \n",
       "        <th class=\"col_heading level0 col1\" >SN</th> \n",
       "        <th class=\"col_heading level0 col2\" >% by Gender</th> \n",
       "    </tr></thead> \n",
       "<tbody>    <tr> \n",
       "        <td id=\"T_3ec83ff0_46e3_11e9_bcb7_7c67a267aecarow0_col0\" class=\"data row0 col0\" >Female</td> \n",
       "        <td id=\"T_3ec83ff0_46e3_11e9_bcb7_7c67a267aecarow0_col1\" class=\"data row0 col1\" >81</td> \n",
       "        <td id=\"T_3ec83ff0_46e3_11e9_bcb7_7c67a267aecarow0_col2\" class=\"data row0 col2\" >14</td> \n",
       "    </tr>    <tr> \n",
       "        <td id=\"T_3ec83ff0_46e3_11e9_bcb7_7c67a267aecarow1_col0\" class=\"data row1 col0\" >Male</td> \n",
       "        <td id=\"T_3ec83ff0_46e3_11e9_bcb7_7c67a267aecarow1_col1\" class=\"data row1 col1\" >484</td> \n",
       "        <td id=\"T_3ec83ff0_46e3_11e9_bcb7_7c67a267aecarow1_col2\" class=\"data row1 col2\" >84</td> \n",
       "    </tr>    <tr> \n",
       "        <td id=\"T_3ec83ff0_46e3_11e9_bcb7_7c67a267aecarow2_col0\" class=\"data row2 col0\" >Other / Non-Disclosed</td> \n",
       "        <td id=\"T_3ec83ff0_46e3_11e9_bcb7_7c67a267aecarow2_col1\" class=\"data row2 col1\" >11</td> \n",
       "        <td id=\"T_3ec83ff0_46e3_11e9_bcb7_7c67a267aecarow2_col2\" class=\"data row2 col2\" >2</td> \n",
       "    </tr></tbody> \n",
       "</table> "
      ],
      "text/plain": [
       "<pandas.io.formats.style.Styler at 0x234759afef0>"
      ]
     },
     "execution_count": 78,
     "metadata": {},
     "output_type": "execute_result"
    }
   ],
   "source": [
    "# Make a general-purpose group-by item\n",
    "purch_by_gender = purchase_df.groupby('Gender')\n",
    "# Count unique screen names by group\n",
    "gender_count = pd.DataFrame(purch_by_gender['SN'].nunique().reset_index())\n",
    "# Generate % data and format the dataframe \n",
    "gender_count['% by Gender'] = 100 * gender_count['SN'] / gender_count['SN'].sum()\n",
    "gender_count['% by Gender'] = gender_count['% by Gender'].map('{:.0f}'.format)\n",
    "gender_count.style.hide_index()"
   ]
  },
  {
   "cell_type": "markdown",
   "metadata": {},
   "source": [
    "The players identify as male by a large margin."
   ]
  },
  {
   "cell_type": "markdown",
   "metadata": {},
   "source": [
    "2) Purchase characteristics by gender, including number of transactions, average transaction amount, total purchases by each gender, and average spent on purchases per person by gender"
   ]
  },
  {
   "cell_type": "code",
   "execution_count": 91,
   "metadata": {},
   "outputs": [
    {
     "data": {
      "text/html": [
       "<style  type=\"text/css\" >\n",
       "</style>  \n",
       "<table id=\"T_e8f78e1e_46e8_11e9_a2dd_7c67a267aeca\" > \n",
       "<thead>    <tr> \n",
       "        <th class=\"col_heading level0 col0\" >Gender</th> \n",
       "        <th class=\"col_heading level0 col1\" >Transactions</th> \n",
       "        <th class=\"col_heading level0 col2\" >Average Transaction</th> \n",
       "        <th class=\"col_heading level0 col3\" >Total Spent</th> \n",
       "        <th class=\"col_heading level0 col4\" >Average Spent per Player</th> \n",
       "    </tr></thead> \n",
       "<tbody>    <tr> \n",
       "        <td id=\"T_e8f78e1e_46e8_11e9_a2dd_7c67a267aecarow0_col0\" class=\"data row0 col0\" >Female</td> \n",
       "        <td id=\"T_e8f78e1e_46e8_11e9_a2dd_7c67a267aecarow0_col1\" class=\"data row0 col1\" >113</td> \n",
       "        <td id=\"T_e8f78e1e_46e8_11e9_a2dd_7c67a267aecarow0_col2\" class=\"data row0 col2\" >$3.20</td> \n",
       "        <td id=\"T_e8f78e1e_46e8_11e9_a2dd_7c67a267aecarow0_col3\" class=\"data row0 col3\" >$361.94</td> \n",
       "        <td id=\"T_e8f78e1e_46e8_11e9_a2dd_7c67a267aecarow0_col4\" class=\"data row0 col4\" >$4.47</td> \n",
       "    </tr>    <tr> \n",
       "        <td id=\"T_e8f78e1e_46e8_11e9_a2dd_7c67a267aecarow1_col0\" class=\"data row1 col0\" >Male</td> \n",
       "        <td id=\"T_e8f78e1e_46e8_11e9_a2dd_7c67a267aecarow1_col1\" class=\"data row1 col1\" >652</td> \n",
       "        <td id=\"T_e8f78e1e_46e8_11e9_a2dd_7c67a267aecarow1_col2\" class=\"data row1 col2\" >$3.02</td> \n",
       "        <td id=\"T_e8f78e1e_46e8_11e9_a2dd_7c67a267aecarow1_col3\" class=\"data row1 col3\" >$1,967.64</td> \n",
       "        <td id=\"T_e8f78e1e_46e8_11e9_a2dd_7c67a267aecarow1_col4\" class=\"data row1 col4\" >$4.07</td> \n",
       "    </tr>    <tr> \n",
       "        <td id=\"T_e8f78e1e_46e8_11e9_a2dd_7c67a267aecarow2_col0\" class=\"data row2 col0\" >Other / Non-Disclosed</td> \n",
       "        <td id=\"T_e8f78e1e_46e8_11e9_a2dd_7c67a267aecarow2_col1\" class=\"data row2 col1\" >15</td> \n",
       "        <td id=\"T_e8f78e1e_46e8_11e9_a2dd_7c67a267aecarow2_col2\" class=\"data row2 col2\" >$3.35</td> \n",
       "        <td id=\"T_e8f78e1e_46e8_11e9_a2dd_7c67a267aecarow2_col3\" class=\"data row2 col3\" >$50.19</td> \n",
       "        <td id=\"T_e8f78e1e_46e8_11e9_a2dd_7c67a267aecarow2_col4\" class=\"data row2 col4\" >$4.56</td> \n",
       "    </tr></tbody> \n",
       "</table> "
      ],
      "text/plain": [
       "<pandas.io.formats.style.Styler at 0x23476432cc0>"
      ]
     },
     "execution_count": 91,
     "metadata": {},
     "output_type": "execute_result"
    }
   ],
   "source": [
    "# Count transactions by gender and start a new DataFrame\n",
    "purch_count_gender = pd.DataFrame(purch_by_gender['Purchase ID'].count().reset_index())\n",
    "# Average transaction amount by gender\n",
    "price_avg_gender = pd.DataFrame(purch_by_gender['Price'].mean().reset_index())\n",
    "# Total spend by gender\n",
    "price_total_gender = pd.DataFrame(purch_by_gender['Price'].sum().reset_index())\n",
    "# Merge these into a new dataframe for further analysis, and rename columns\n",
    "merge_by_gender1 = purch_count_gender.merge(price_avg_gender,how='outer',on='Gender')\n",
    "merge_by_gender2 = merge_by_gender1.merge(price_total_gender,how='outer',on='Gender')\\\n",
    ".rename(columns={'Purchase ID':'Transactions','Price_x':'Average Transaction','Price_y':'Total Spent'})\n",
    "# Compute the average spent per player\n",
    "merge_by_gender2['Average Spent per Player'] = merge_by_gender2['Total Spent'] / gender_count['SN']\n",
    "# Format for display\n",
    "merge_by_gender2['Average Transaction'] = merge_by_gender2['Average Transaction'].map('${:,.2f}'.format)\n",
    "merge_by_gender2['Total Spent'] = merge_by_gender2['Total Spent'].map('${:,.2f}'.format)\n",
    "merge_by_gender2['Average Spent per Player'] = merge_by_gender2['Average Spent per Player'].map('${:,.2f}'.format)\n",
    "merge_by_gender2.style.hide_index()"
   ]
  },
  {
   "cell_type": "markdown",
   "metadata": {},
   "source": [
    "Players identifying as male spent slightly less than those identifying as other genders, on both a per transaction and total per player basis.  However, because of the larger numbers, they represent by far the largest source of revenue."
   ]
  },
  {
   "cell_type": "markdown",
   "metadata": {},
   "source": [
    "Game players overwhelmingly identify as male.  The following table compares purchase behavior by gender."
   ]
  },
  {
   "cell_type": "code",
   "execution_count": 45,
   "metadata": {},
   "outputs": [
    {
     "data": {
      "text/plain": [
       "<pandas.core.groupby.groupby.DataFrameGroupBy object at 0x0000023475851908>"
      ]
     },
     "execution_count": 45,
     "metadata": {},
     "output_type": "execute_result"
    }
   ],
   "source": [
    "gen_group = purchase_df.groupby('Gender')\n",
    "gen_group['']"
   ]
  },
  {
   "cell_type": "code",
   "execution_count": null,
   "metadata": {},
   "outputs": [],
   "source": []
  }
 ],
 "metadata": {
  "kernelspec": {
   "display_name": "Python 3",
   "language": "python",
   "name": "python3"
  },
  "language_info": {
   "codemirror_mode": {
    "name": "ipython",
    "version": 3
   },
   "file_extension": ".py",
   "mimetype": "text/x-python",
   "name": "python",
   "nbconvert_exporter": "python",
   "pygments_lexer": "ipython3",
   "version": "3.7.1"
  }
 },
 "nbformat": 4,
 "nbformat_minor": 2
}
